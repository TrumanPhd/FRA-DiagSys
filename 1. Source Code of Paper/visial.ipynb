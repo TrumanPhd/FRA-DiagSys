{
 "cells": [
  {
   "cell_type": "code",
   "execution_count": null,
   "metadata": {},
   "outputs": [],
   "source": [
    "#visial\n",
    "from torchsummary import summary\n",
    "import torch\n",
    "device = torch.device(\"cuda\" if torch.cuda.is_available() else \"cpu\")\n",
    "\n",
    " \n",
    " #Discriminator()是我需要可视化的判别器\n",
    " model = Discriminator().to(device)\n",
    " \n",
    " #传入model和一个3通道256x1024大小的图片\n",
    " summary(model, (3, 256, 1024))\n",
    " model = Discriminator()\n",
    " print(model)"
   ]
  }
 ],
 "metadata": {
  "kernelspec": {
   "display_name": "vall",
   "language": "python",
   "name": "python3"
  },
  "language_info": {
   "name": "python",
   "version": "3.10.12"
  },
  "orig_nbformat": 4
 },
 "nbformat": 4,
 "nbformat_minor": 2
}
